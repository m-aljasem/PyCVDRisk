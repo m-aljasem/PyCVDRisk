{
  "cells": [
    {
      "cell_type": "markdown",
      "metadata": {},
      "source": [
        "# WHO CVD Risk Chart\n",
        "\n",
        "The WHO CVD Risk Charts provide region-specific risk estimates for cardiovascular disease.\n",
        "\n",
        "**Reference:** WHO CVD Risk Chart Working Group. World Health Organization cardiovascular disease risk charts. *Lancet Glob Health*. 2019;7(10):e1332-e1345.\n"
      ]
    },
    {
      "cell_type": "code",
      "execution_count": null,
      "metadata": {},
      "outputs": [],
      "source": [
        "from cvd_risk_calculator.models.who import WHO\n",
        "from cvd_risk_calculator.core.validation import PatientData\n",
        "\n",
        "patient = PatientData(\n",
        "    age=55,\n",
        "    sex=\"male\",\n",
        "    systolic_bp=140.0,\n",
        "    total_cholesterol=6.0,\n",
        "    hdl_cholesterol=1.2,\n",
        "    smoking=True,\n",
        "    diabetes=False\n",
        ")\n",
        "\n",
        "model = WHO()\n",
        "result = model.calculate(patient)\n",
        "print(f\"WHO CVD Risk: {result.risk_score:.1f}% ({result.risk_category})\")\n"
      ]
    }
  ],
  "metadata": {
    "language_info": {
      "name": "python"
    }
  },
  "nbformat": 4,
  "nbformat_minor": 2
}
