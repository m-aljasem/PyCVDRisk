{
  "cells": [
    {
      "cell_type": "markdown",
      "metadata": {},
      "source": [
        "# Framingham Risk Score\n",
        "\n",
        "This notebook demonstrates the Framingham Risk Score for cardiovascular disease risk prediction.\n",
        "\n",
        "## Model Overview\n",
        "\n",
        "The Framingham Risk Score uses a point-based system to estimate 10-year risk of cardiovascular disease based on:\n",
        "- Age\n",
        "- Sex\n",
        "- Total cholesterol\n",
        "- HDL cholesterol\n",
        "- Systolic blood pressure\n",
        "- Smoking status\n",
        "\n",
        "**Reference:** Wilson PW, D'Agostino RB, Levy D, Belanger AM, Silbershatz H, Kannel WB. Prediction of coronary heart disease using risk factor categories. *Circulation*. 1998;97(18):1837-47.\n"
      ]
    },
    {
      "cell_type": "code",
      "execution_count": null,
      "metadata": {},
      "outputs": [],
      "source": [
        "import pandas as pd\n",
        "import matplotlib.pyplot as plt\n",
        "import seaborn as sns\n",
        "import numpy as np\n",
        "\n",
        "from cvd_risk_calculator.models.framingham import Framingham\n",
        "from cvd_risk_calculator.core.validation import PatientData\n",
        "\n",
        "sns.set_style(\"whitegrid\")\n",
        "plt.rcParams['figure.figsize'] = (10, 6)\n"
      ]
    },
    {
      "cell_type": "code",
      "execution_count": null,
      "metadata": {},
      "outputs": [],
      "source": [
        "# Example: Calculate Framingham risk\n",
        "patient = PatientData(\n",
        "    age=55,\n",
        "    sex=\"male\",\n",
        "    systolic_bp=140.0,\n",
        "    total_cholesterol=6.0,\n",
        "    hdl_cholesterol=1.2,\n",
        "    smoking=True\n",
        ")\n",
        "\n",
        "model = Framingham()\n",
        "result = model.calculate(patient)\n",
        "\n",
        "print(f\"Framingham Risk Score: {result.risk_score:.1f}%\")\n",
        "print(f\"Risk Category: {result.risk_category}\")\n",
        "print(f\"Points: {result.calculation_metadata.get('points', 'N/A')}\")\n"
      ]
    }
  ],
  "metadata": {
    "language_info": {
      "name": "python"
    }
  },
  "nbformat": 4,
  "nbformat_minor": 2
}
