{
  "cells": [
    {
      "cell_type": "markdown",
      "metadata": {},
      "source": [
        "# QRISK3 Cardiovascular Risk Model\n",
        "\n",
        "QRISK3 estimates 10-year risk of cardiovascular disease with enhanced risk factors.\n",
        "\n",
        "**Reference:** Hippisley-Cox J, Coupland C, Brindle P. Development and validation of QRISK3 risk prediction algorithms. *BMJ*. 2017;357:j2099.\n"
      ]
    },
    {
      "cell_type": "code",
      "execution_count": null,
      "metadata": {},
      "outputs": [],
      "source": [
        "import pandas as pd\n",
        "from cvd_risk_calculator.models.qrisk3 import QRISK3\n",
        "from cvd_risk_calculator.core.validation import PatientData\n",
        "\n",
        "# Example with additional factors\n",
        "patient = PatientData(\n",
        "    age=55,\n",
        "    sex=\"male\",\n",
        "    systolic_bp=140.0,\n",
        "    total_cholesterol=6.0,\n",
        "    hdl_cholesterol=1.2,\n",
        "    smoking=True,\n",
        "    diabetes=False,\n",
        "    bmi=25.5,\n",
        "    family_history=True,\n",
        "    ethnicity=\"white\"\n",
        ")\n",
        "\n",
        "model = QRISK3()\n",
        "result = model.calculate(patient)\n",
        "print(f\"QRISK3: {result.risk_score:.1f}% ({result.risk_category})\")\n"
      ]
    }
  ],
  "metadata": {
    "language_info": {
      "name": "python"
    }
  },
  "nbformat": 4,
  "nbformat_minor": 2
}
