{
  "cells": [
    {
      "cell_type": "markdown",
      "metadata": {},
      "source": [
        "# SMART2 Risk Model for Recurrent CVD Events\n",
        "\n",
        "SMART2 estimates the risk of recurrent cardiovascular events in patients with established cardiovascular disease.\n",
        "\n",
        "**Reference:** Dorresteijn JA, Visseren FL, Wassink AM, et al. Development and validation of a prediction rule for recurrent vascular events. *European Heart Journal*. 2014;35(29):1925-31.\n"
      ]
    },
    {
      "cell_type": "code",
      "execution_count": null,
      "metadata": {},
      "outputs": [],
      "source": [
        "from cvd_risk_calculator.models.smart2 import SMART2\n",
        "from cvd_risk_calculator.core.validation import PatientData\n",
        "\n",
        "# Example for secondary prevention\n",
        "patient = PatientData(\n",
        "    age=65,\n",
        "    sex=\"male\",\n",
        "    systolic_bp=140.0,\n",
        "    total_cholesterol=5.5,\n",
        "    hdl_cholesterol=1.0,\n",
        "    smoking=False,\n",
        "    diabetes=True\n",
        ")\n",
        "\n",
        "model = SMART2()\n",
        "result = model.calculate(patient)\n",
        "print(f\"SMART2 10-year risk: {result.risk_score:.1f}% ({result.risk_category})\")\n",
        "print(\"Note: This model is for patients with established CVD\")\n"
      ]
    }
  ],
  "metadata": {
    "language_info": {
      "name": "python"
    }
  },
  "nbformat": 4,
  "nbformat_minor": 2
}
