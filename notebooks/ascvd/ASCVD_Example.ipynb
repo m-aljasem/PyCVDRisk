{
  "cells": [
    {
      "cell_type": "markdown",
      "metadata": {},
      "source": [
        "# ASCVD Pooled Cohort Equations\n",
        "\n",
        "This notebook demonstrates the ASCVD (Atherosclerotic Cardiovascular Disease) Pooled Cohort Equations.\n",
        "\n",
        "## Model Overview\n",
        "\n",
        "ASCVD estimates 10-year risk of atherosclerotic cardiovascular disease using the 2013 ACC/AHA guidelines.\n",
        "\n",
        "**Reference:** Goff DC Jr, Lloyd-Jones DM, Bennett G, et al. 2013 ACC/AHA Guideline on the Assessment of Cardiovascular Risk. *Circulation*. 2014;129(25 Suppl 2):S49-73.\n"
      ]
    },
    {
      "cell_type": "code",
      "execution_count": null,
      "metadata": {},
      "outputs": [],
      "source": [
        "import pandas as pd\n",
        "import matplotlib.pyplot as plt\n",
        "import seaborn as sns\n",
        "\n",
        "from cvd_risk_calculator.models.ascvd import ASCVD\n",
        "from cvd_risk_calculator.core.validation import PatientData\n",
        "\n",
        "sns.set_style(\"whitegrid\")\n",
        "plt.rcParams['figure.figsize'] = (10, 6)\n"
      ]
    },
    {
      "cell_type": "code",
      "execution_count": null,
      "metadata": {},
      "outputs": [],
      "source": [
        "# Example: Calculate ASCVD risk\n",
        "patient = PatientData(\n",
        "    age=55,\n",
        "    sex=\"male\",\n",
        "    systolic_bp=140.0,\n",
        "    total_cholesterol=6.0,\n",
        "    hdl_cholesterol=1.2,\n",
        "    smoking=True,\n",
        "    antihypertensive=False\n",
        ")\n",
        "\n",
        "model = ASCVD()\n",
        "result = model.calculate(patient)\n",
        "\n",
        "print(f\"ASCVD 10-year risk: {result.risk_score:.1f}%\")\n",
        "print(f\"Risk Category: {result.risk_category}\")\n"
      ]
    }
  ],
  "metadata": {
    "language_info": {
      "name": "python"
    }
  },
  "nbformat": 4,
  "nbformat_minor": 2
}
