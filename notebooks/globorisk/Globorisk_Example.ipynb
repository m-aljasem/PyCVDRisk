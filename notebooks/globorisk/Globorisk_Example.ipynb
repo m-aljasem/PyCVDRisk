{
  "cells": [
    {
      "cell_type": "markdown",
      "metadata": {},
      "source": [
        "# Globorisk Cardiovascular Risk Model\n",
        "\n",
        "Globorisk provides country-specific cardiovascular disease risk estimates that account for local mortality rates.\n",
        "\n",
        "**Reference:** Ueda P, Woodward M, Lu Y, et al. Laboratory-based and office-based risk scores and charts to predict 10-year risk of cardiovascular disease in 182 countries. *Lancet Diabetes Endocrinol*. 2017;5(3):196-213.\n"
      ]
    },
    {
      "cell_type": "code",
      "execution_count": null,
      "metadata": {},
      "outputs": [],
      "source": [
        "from cvd_risk_calculator.models.globorisk import Globorisk\n",
        "from cvd_risk_calculator.core.validation import PatientData\n",
        "\n",
        "patient = PatientData(\n",
        "    age=55,\n",
        "    sex=\"male\",\n",
        "    systolic_bp=140.0,\n",
        "    total_cholesterol=6.0,\n",
        "    hdl_cholesterol=1.2,\n",
        "    smoking=True,\n",
        "    diabetes=False\n",
        ")\n",
        "\n",
        "model = Globorisk()\n",
        "result = model.calculate(patient)\n",
        "print(f\"Globorisk 10-year risk: {result.risk_score:.1f}% ({result.risk_category})\")\n"
      ]
    }
  ],
  "metadata": {
    "language_info": {
      "name": "python"
    }
  },
  "nbformat": 4,
  "nbformat_minor": 2
}
