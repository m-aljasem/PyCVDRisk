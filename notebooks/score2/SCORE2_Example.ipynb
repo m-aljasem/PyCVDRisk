{
  "cells": [
    {
      "cell_type": "markdown",
      "metadata": {},
      "source": [
        "# SCORE2 Cardiovascular Risk Model\n",
        "\n",
        "This notebook demonstrates the SCORE2 (Systematic COronary Risk Evaluation 2) cardiovascular risk prediction model.\n",
        "\n",
        "## Model Overview\n",
        "\n",
        "SCORE2 estimates 10-year risk of fatal and non-fatal cardiovascular disease based on:\n",
        "- Age\n",
        "- Sex\n",
        "- Systolic blood pressure\n",
        "- Total cholesterol\n",
        "- HDL cholesterol\n",
        "- Smoking status\n",
        "- Regional CVD risk level\n",
        "\n",
        "**Reference:** SCORE2 Working Group and ESC Cardiovascular Risk Collaboration. (2021). SCORE2 risk prediction algorithms: new models to estimate 10-year risk of cardiovascular disease in Europe. *European Heart Journal*, 42(25), 2439-2454.\n"
      ]
    },
    {
      "cell_type": "code",
      "execution_count": null,
      "metadata": {},
      "outputs": [],
      "source": [
        "import pandas as pd\n",
        "import matplotlib.pyplot as plt\n",
        "import seaborn as sns\n",
        "import numpy as np\n",
        "\n",
        "from cvd_risk_calculator.models.score2 import SCORE2\n",
        "from cvd_risk_calculator.core.validation import PatientData\n",
        "\n",
        "# Set up plotting style\n",
        "sns.set_style(\"whitegrid\")\n",
        "plt.rcParams['figure.figsize'] = (10, 6)\n"
      ]
    },
    {
      "cell_type": "markdown",
      "metadata": {},
      "source": [
        "## Example 1: Single Patient Calculation\n"
      ]
    },
    {
      "cell_type": "code",
      "execution_count": null,
      "metadata": {},
      "outputs": [],
      "source": [
        "# Create a sample patient\n",
        "patient = PatientData(\n",
        "    age=55,\n",
        "    sex=\"male\",\n",
        "    systolic_bp=140.0,\n",
        "    total_cholesterol=6.0,\n",
        "    hdl_cholesterol=1.2,\n",
        "    smoking=True,\n",
        "    region=\"moderate\"\n",
        ")\n",
        "\n",
        "# Initialize model and calculate risk\n",
        "model = SCORE2()\n",
        "result = model.calculate(patient)\n",
        "\n",
        "# Display results\n",
        "print(f\"Patient Profile:\")\n",
        "print(f\"  Age: {patient.age} years\")\n",
        "print(f\"  Sex: {patient.sex}\")\n",
        "print(f\"  Systolic BP: {patient.systolic_bp} mmHg\")\n",
        "print(f\"  Total Cholesterol: {patient.total_cholesterol} mmol/L\")\n",
        "print(f\"  HDL Cholesterol: {patient.hdl_cholesterol} mmol/L\")\n",
        "print(f\"  Smoking: {patient.smoking}\")\n",
        "print(f\"  Region: {patient.region}\")\n",
        "print(f\"\\nSCORE2 Results:\")\n",
        "print(f\"  10-year CVD risk: {result.risk_score:.1f}%\")\n",
        "print(f\"  Risk category: {result.risk_category}\")\n",
        "print(f\"  Model: {result.model_name} v{result.model_version}\")\n"
      ]
    },
    {
      "cell_type": "markdown",
      "metadata": {},
      "source": [
        "## Example 2: Batch Processing\n"
      ]
    },
    {
      "cell_type": "code",
      "execution_count": null,
      "metadata": {},
      "outputs": [],
      "source": [
        "# Create a DataFrame with multiple patients\n",
        "df = pd.DataFrame({\n",
        "    'age': [55, 60, 45, 65, 50],\n",
        "    'sex': ['male', 'female', 'male', 'male', 'female'],\n",
        "    'systolic_bp': [140.0, 130.0, 150.0, 160.0, 125.0],\n",
        "    'total_cholesterol': [6.0, 5.5, 7.0, 6.5, 5.0],\n",
        "    'hdl_cholesterol': [1.2, 1.5, 1.0, 1.1, 1.6],\n",
        "    'smoking': [True, False, True, True, False],\n",
        "    'region': ['moderate', 'low', 'high', 'very_high', 'low']\n",
        "})\n",
        "\n",
        "# Calculate risks\n",
        "results = model.calculate_batch(df)\n",
        "\n",
        "# Display results\n",
        "print(\"Batch Calculation Results:\")\n",
        "print(results[['age', 'sex', 'risk_score', 'risk_category']].to_string())\n",
        "\n",
        "# Summary statistics\n",
        "print(f\"\\nSummary:\")\n",
        "print(f\"  Mean risk: {results['risk_score'].mean():.1f}%\")\n",
        "print(f\"  Median risk: {results['risk_score'].median():.1f}%\")\n",
        "print(f\"\\nRisk Distribution:\")\n",
        "print(results['risk_category'].value_counts())\n"
      ]
    },
    {
      "cell_type": "markdown",
      "metadata": {},
      "source": [
        "## Example 3: Risk Comparison Across Regions\n"
      ]
    },
    {
      "cell_type": "code",
      "execution_count": null,
      "metadata": {},
      "outputs": [],
      "source": [
        "# Compare risk by region for the same patient profile\n",
        "base_patient = {\n",
        "    'age': 55,\n",
        "    'sex': 'male',\n",
        "    'systolic_bp': 140.0,\n",
        "    'total_cholesterol': 6.0,\n",
        "    'hdl_cholesterol': 1.2,\n",
        "    'smoking': True\n",
        "}\n",
        "\n",
        "regions = ['low', 'moderate', 'high', 'very_high']\n",
        "risks_by_region = {}\n",
        "\n",
        "for region in regions:\n",
        "    patient = PatientData(**base_patient, region=region)\n",
        "    result = model.calculate(patient)\n",
        "    risks_by_region[region] = result.risk_score\n",
        "\n",
        "# Visualize\n",
        "plt.figure(figsize=(8, 5))\n",
        "plt.bar(risks_by_region.keys(), risks_by_region.values(), color='steelblue')\n",
        "plt.xlabel('Region')\n",
        "plt.ylabel('10-year CVD Risk (%)')\n",
        "plt.title('SCORE2 Risk by Region (Same Patient Profile)')\n",
        "plt.grid(axis='y', alpha=0.3)\n",
        "plt.tight_layout()\n",
        "plt.show()\n"
      ]
    },
    {
      "cell_type": "markdown",
      "metadata": {},
      "source": [
        "## Example 4: Risk by Age and Sex\n"
      ]
    },
    {
      "cell_type": "code",
      "execution_count": null,
      "metadata": {},
      "outputs": [],
      "source": [
        "# Calculate risk across different ages\n",
        "ages = list(range(40, 70, 5))\n",
        "risks_male = []\n",
        "risks_female = []\n",
        "\n",
        "for age in ages:\n",
        "    # Male patient\n",
        "    patient_m = PatientData(\n",
        "        age=age, sex='male', systolic_bp=140.0,\n",
        "        total_cholesterol=6.0, hdl_cholesterol=1.2,\n",
        "        smoking=True, region='moderate'\n",
        "    )\n",
        "    result_m = model.calculate(patient_m)\n",
        "    risks_male.append(result_m.risk_score)\n",
        "    \n",
        "    # Female patient\n",
        "    patient_f = PatientData(\n",
        "        age=age, sex='female', systolic_bp=140.0,\n",
        "        total_cholesterol=6.0, hdl_cholesterol=1.2,\n",
        "        smoking=True, region='moderate'\n",
        "    )\n",
        "    result_f = model.calculate(patient_f)\n",
        "    risks_female.append(result_f.risk_score)\n",
        "\n",
        "# Visualize\n",
        "plt.figure(figsize=(10, 6))\n",
        "plt.plot(ages, risks_male, marker='o', label='Male', linewidth=2, markersize=8)\n",
        "plt.plot(ages, risks_female, marker='s', label='Female', linewidth=2, markersize=8)\n",
        "plt.xlabel('Age (years)', fontsize=12)\n",
        "plt.ylabel('10-year CVD Risk (%)', fontsize=12)\n",
        "plt.title('SCORE2 Risk by Age and Sex', fontsize=14)\n",
        "plt.legend(fontsize=11)\n",
        "plt.grid(alpha=0.3)\n",
        "plt.tight_layout()\n",
        "plt.show()\n"
      ]
    }
  ],
  "metadata": {
    "language_info": {
      "name": "python"
    }
  },
  "nbformat": 4,
  "nbformat_minor": 2
}
