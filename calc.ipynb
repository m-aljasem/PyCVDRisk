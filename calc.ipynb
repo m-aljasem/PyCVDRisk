{
 "cells": [
  {
   "cell_type": "code",
   "execution_count": 19,
   "metadata": {},
   "outputs": [],
   "source": [
    "import json\n",
    "import pandas as pd\n",
    "import numpy as np"
   ]
  },
  {
   "cell_type": "code",
   "execution_count": 20,
   "metadata": {},
   "outputs": [],
   "source": [
    "with open('JSON/who-mena.json') as json_file:\n",
    "    who = json.load(json_file)\n",
    "\n",
    "with open('JSON/SCORE2-HR.json') as json_file:\n",
    "    score2 = json.load(json_file)\n",
    "\n",
    "with open('JSON/SCORE2OP-HR.json') as json_file:\n",
    "    score2op = json.load(json_file)"
   ]
  },
  {
   "cell_type": "code",
   "execution_count": 30,
   "metadata": {},
   "outputs": [],
   "source": [
    "def SCORE2(age = 0 , bp =0 , gender = 0, tchol = 0, hdl=0, smoking = 0):\n",
    "    ages = ['65_69', '60_64', '55_59', '50_54', '45_49', '40_44']\n",
    "    bps = ['160_179', '140_159', '120_139', '100_119']\n",
    "    genders = ['male', 'female']\n",
    "    smoking_status = ['non_smoking', 'smoking']\n",
    "    chol = ['30_39', '40_49', '50_59', '60_69']\n",
    "    result = 0\n",
    "    \n",
    "    round_bp = 0\n",
    "    round_chol = 0\n",
    "    round_gender = 0\n",
    "    round_smoking_status = 0\n",
    "    round_age = 0\n",
    "    \n",
    "    #BP Round\n",
    "    if bp == 0:\n",
    "        result = 0\n",
    "    elif bp < 120:\n",
    "        round_bp = bps[3]\n",
    "    elif ((bp >= 120) and (bp < 140)):\n",
    "        round_bp = bps[2]\n",
    "    elif ((bp >= 140) and (bp < 160)):\n",
    "        round_bp = bps[1]\n",
    "    elif bp >= 160:\n",
    "        round_bp = bps[0]\n",
    "    \n",
    "    #Age Round\n",
    "    if age == 0:\n",
    "        result = 0\n",
    "    elif age < 45:\n",
    "        round_age = ages[5]\n",
    "    elif ((age >= 45) and (age < 50)):\n",
    "        round_age = ages[4]\n",
    "    elif ((age >= 50) and (age < 55)):\n",
    "        round_age = ages[3]\n",
    "    elif ((age >= 55) and (age < 60)):\n",
    "        round_age = ages[2]\n",
    "    elif ((age >= 60) and (age < 65)):\n",
    "        round_age = ages[1]\n",
    "    elif age >= 65:\n",
    "        round_age = ages[0]\n",
    "    \n",
    "    #Chol Round\n",
    "    non_hdl_chol = tchol - hdl\n",
    "    if non_hdl_chol == 0:\n",
    "        result = 0\n",
    "    elif non_hdl_chol < 4:\n",
    "        round_chol = chol[0]\n",
    "    elif ((non_hdl_chol >= 4) and (non_hdl_chol < 5)):\n",
    "        round_chol = chol[1]\n",
    "    elif ((non_hdl_chol >= 5) and (non_hdl_chol < 6)):\n",
    "        round_chol = chol[2]\n",
    "    elif non_hdl_chol >= 6:\n",
    "        round_chol = chol[3]\n",
    "\n",
    "    #Gender\n",
    "    round_gender = genders[gender]\n",
    "\n",
    "    #Smoking Status\n",
    "    round_smoking_status = smoking_status[smoking]\n",
    "\n",
    "\n",
    "    return score2[round_gender][round_smoking_status][round_age][round_bp][round_chol]\n",
    "    \n",
    "    \n",
    "\n"
   ]
  },
  {
   "cell_type": "code",
   "execution_count": 32,
   "metadata": {},
   "outputs": [
    {
     "data": {
      "text/plain": [
       "14"
      ]
     },
     "execution_count": 32,
     "metadata": {},
     "output_type": "execute_result"
    }
   ],
   "source": [
    "SCORE2(age = 58, bp = 159, tchol = 10, hdl = 5, gender = 1, smoking= 1)"
   ]
  },
  {
   "cell_type": "code",
   "execution_count": 35,
   "metadata": {},
   "outputs": [],
   "source": [
    "def SCORE2OP(age = 0 , bp =0 , gender = 0, tchol = 0, hdl=0, smoking = 0):\n",
    "    ages = ['70_74', '75_79', '80_84', '85_89']\n",
    "    bps = ['160_179', '140_159', '120_139', '100_119']\n",
    "    genders = ['male', 'female']\n",
    "    smoking_status = ['non_somker', 'smoker']\n",
    "    chol = ['30_39', '40_49', '50_59', '60_69'] \n",
    "    result = 0\n",
    "    \n",
    "    round_bp = 0\n",
    "    round_chol = 0\n",
    "    round_gender = 0\n",
    "    round_smoking_status = 0\n",
    "    round_age = 0\n",
    "    \n",
    "    #BP Round\n",
    "    if bp == 0:\n",
    "        result = 0\n",
    "    elif bp < 120:\n",
    "        round_bp = bps[3]\n",
    "    elif ((bp >= 120) and (bp < 140)):\n",
    "        round_bp = bps[2]\n",
    "    elif ((bp >= 140) and (bp < 160)):\n",
    "        round_bp = bps[1]\n",
    "    elif bp >= 160:\n",
    "        round_bp = bps[0]\n",
    "    \n",
    "    #Age Round\n",
    "    if age == 0:\n",
    "        result = 0\n",
    "    elif ((age >= 70) and (age < 75)):\n",
    "        round_age = ages[0]\n",
    "    elif ((age >= 75) and (age < 80)):\n",
    "        round_age = ages[1]\n",
    "    elif ((age >= 80) and (age < 85)):\n",
    "        round_age = ages[2]\n",
    "    elif age >= 85:\n",
    "        round_age = ages[3]\n",
    "    \n",
    "    #Chol Round\n",
    "    non_hdl_chol = tchol - hdl\n",
    "    if non_hdl_chol == 0:\n",
    "        result = 0\n",
    "    elif non_hdl_chol < 4:\n",
    "        round_chol = chol[0]\n",
    "    elif ((non_hdl_chol >= 4) and (non_hdl_chol < 5)):\n",
    "        round_chol = chol[1]\n",
    "    elif ((non_hdl_chol >= 5) and (non_hdl_chol < 6)):\n",
    "        round_chol = chol[2]\n",
    "    elif non_hdl_chol >= 6:\n",
    "        round_chol = chol[3]\n",
    "\n",
    "    #Gender\n",
    "    round_gender = genders[gender]\n",
    "\n",
    "    #Smoking Status\n",
    "    round_smoking_status = smoking_status[smoking]\n",
    "\n",
    "\n",
    "    return score2op[round_gender][round_smoking_status][round_age][round_bp][round_chol]\n",
    "    \n",
    "    \n",
    "\n"
   ]
  },
  {
   "cell_type": "code",
   "execution_count": 36,
   "metadata": {},
   "outputs": [
    {
     "data": {
      "text/plain": [
       "48"
      ]
     },
     "execution_count": 36,
     "metadata": {},
     "output_type": "execute_result"
    }
   ],
   "source": [
    "SCORE2OP(age = 80, bp = 159, tchol = 10, hdl = 5, gender = 1, smoking= 1)"
   ]
  },
  {
   "cell_type": "code",
   "execution_count": null,
   "metadata": {},
   "outputs": [],
   "source": []
  }
 ],
 "metadata": {
  "kernelspec": {
   "display_name": "Python 3",
   "language": "python",
   "name": "python3"
  },
  "language_info": {
   "codemirror_mode": {
    "name": "ipython",
    "version": 3
   },
   "file_extension": ".py",
   "mimetype": "text/x-python",
   "name": "python",
   "nbconvert_exporter": "python",
   "pygments_lexer": "ipython3",
   "version": "3.10.12"
  }
 },
 "nbformat": 4,
 "nbformat_minor": 2
}
